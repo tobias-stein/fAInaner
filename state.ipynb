{
 "cells": [
  {
   "cell_type": "code",
   "execution_count": 25,
   "metadata": {},
   "outputs": [],
   "source": [
    "import numpy as np"
   ]
  },
  {
   "cell_type": "code",
   "execution_count": 26,
   "metadata": {},
   "outputs": [],
   "source": [
    "class State(object):\n",
    "    def __init__(self, properties: dict = {}, default: dict = {}):\n",
    "        N = sum(properties.values())\n",
    "        self.data = np.zeros(N)\n",
    "        self.meta = {}\n",
    "\n",
    "        start_index = 0\n",
    "        for prop, size in properties.items():\n",
    "            default_value = default[prop] if prop in default else 0.0\n",
    "\n",
    "            setattr(self, prop, self.data[start_index:start_index + size])\n",
    "            getattr(self, prop)[:] = default_value\n",
    "            \n",
    "            self.meta[prop] = {\n",
    "                'index':    start_index,\n",
    "                'size':     size,\n",
    "                'default':  default_value\n",
    "            }\n",
    "\n",
    "            start_index += size\n",
    "\n",
    "        def _copy(): \n",
    "            copy_state = State(properties, dict([(prop, self.data[meta['index']:meta['index']+meta['size']]) for prop, meta in self.meta.items()]))\n",
    "            return copy_state\n",
    "\n",
    "        self.copy = _copy\n",
    "\n",
    "    def __repr__(self):\n",
    "        return '\\n'.join([f\"{prop}[{meta['size']}]: {tuple(getattr(self, prop)[:])}\" for prop, meta in self.meta.items()])\n",
    "        \n",
    "    def __len__(self):\n",
    "        return len(self.data)\n",
    "\n",
    "    def __dict__(self):\n",
    "        return {'hello': 123 }\n",
    "\n",
    "    def __getitem__(self, index):\n",
    "        if isinstance(index, int):\n",
    "            return self.data[index]\n",
    "        elif isinstance(index, str):\n",
    "            return getattr(self, index)[:]\n",
    "        else:\n",
    "            raise Exception(\"Invalid subscript.\")\n",
    "\n",
    "    def __setitem__(self, index, value):\n",
    "        if isinstance(index, int):\n",
    "            self.data[index] = value\n",
    "        elif isinstance(index, str):\n",
    "            getattr(self, index)[:] = value\n",
    "        else:\n",
    "            raise Exception(\"Invalid subscript.\")\n",
    "\n",
    "    def reset(self):\n",
    "        for prop, meta in self.meta.items():\n",
    "            getattr(self, prop)[:] = meta['default']\n",
    "\n",
    "    def update(self, properties: dict = {}):\n",
    "        for prop, value in properties.items():\n",
    "            getattr(self, prop)[:] = value\n"
   ]
  },
  {
   "cell_type": "code",
   "execution_count": 27,
   "metadata": {},
   "outputs": [
    {
     "name": "stdout",
     "output_type": "stream",
     "text": [
      "{'hello': array([0., 0., 0., 0., 0.]), 'world': array([7., 8., 9.]), 'foo': array([3.])}\n",
      "hello[5]: (1.0, 2.0, 3.0, 4.0, 5.0)\n",
      "world[3]: (7.0, 8.0, 9.0)\n",
      "foo[1]: (3.0,)\n",
      "hello[5]: (0.0, 0.0, 0.0, 0.0, 0.0)\n",
      "world[3]: (7.0, 8.0, 9.0)\n",
      "foo[1]: (3.0,)\n"
     ]
    }
   ],
   "source": [
    "s = State({'hello': 5, 'world': 3, 'foo': 1}, { 'world': [7,8,9]})\n",
    "\n",
    "s[8] = 3\n",
    "t = s.copy()\n",
    "\n",
    "s['hello'] = [1,2,3,4,5]\n",
    "\n",
    "print(s)\n",
    "print(t)   "
   ]
  }
 ],
 "metadata": {
  "kernelspec": {
   "display_name": ".venv2",
   "language": "python",
   "name": "python3"
  },
  "language_info": {
   "codemirror_mode": {
    "name": "ipython",
    "version": 3
   },
   "file_extension": ".py",
   "mimetype": "text/x-python",
   "name": "python",
   "nbconvert_exporter": "python",
   "pygments_lexer": "ipython3",
   "version": "3.8.16"
  },
  "orig_nbformat": 4,
  "vscode": {
   "interpreter": {
    "hash": "3208a66120fc884c7527a65fecdc151c006ca0256ceda6b5d4c74ff75a03a306"
   }
  }
 },
 "nbformat": 4,
 "nbformat_minor": 2
}
