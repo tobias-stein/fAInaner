{
 "cells": [
  {
   "cell_type": "code",
   "execution_count": 8,
   "metadata": {},
   "outputs": [
    {
     "name": "stdout",
     "output_type": "stream",
     "text": [
      "T           a  b  c\n",
      "2020-01-01  1  2  3\n",
      "2020-01-02  4  5  6\n",
      "2020-01-03  7  8  9\n"
     ]
    }
   ],
   "source": [
    "import pandas as pd\n",
    "import numpy as np\n",
    "from sklearn.preprocessing import MinMaxScaler\n",
    "\n",
    "d = pd.DataFrame(\n",
    "    data={\n",
    "        'C': [\n",
    "            1 ,2, 3, \n",
    "            4, 5, 6, \n",
    "            7, 8, 9\n",
    "        ],\n",
    "        'T': [\n",
    "            'a', 'b', 'c', \n",
    "            'a', 'b', 'c', \n",
    "            'a', 'b', 'c'\n",
    "        ],\n",
    "\n",
    "        'B': [\n",
    "            0 ,2, 3, \n",
    "            4, 5, 6, \n",
    "            7, 8, 9\n",
    "        ],\n",
    "    },\n",
    "    index=[\n",
    "        pd.Timestamp('2020-01-01'), pd.Timestamp('2020-01-01'), pd.Timestamp('2020-01-01'),\n",
    "        pd.Timestamp('2020-01-02'), pd.Timestamp('2020-01-02'), pd.Timestamp('2020-01-02'),\n",
    "        pd.Timestamp('2020-01-03'), pd.Timestamp('2020-01-03'), pd.Timestamp('2020-01-03'),\n",
    "    ]\n",
    ")\n",
    "\n",
    "print(d.pivot(columns='T', values='C'))"
   ]
  }
 ],
 "metadata": {
  "kernelspec": {
   "display_name": ".venv2",
   "language": "python",
   "name": "python3"
  },
  "language_info": {
   "codemirror_mode": {
    "name": "ipython",
    "version": 3
   },
   "file_extension": ".py",
   "mimetype": "text/x-python",
   "name": "python",
   "nbconvert_exporter": "python",
   "pygments_lexer": "ipython3",
   "version": "3.8.16"
  },
  "orig_nbformat": 4,
  "vscode": {
   "interpreter": {
    "hash": "3208a66120fc884c7527a65fecdc151c006ca0256ceda6b5d4c74ff75a03a306"
   }
  }
 },
 "nbformat": 4,
 "nbformat_minor": 2
}
